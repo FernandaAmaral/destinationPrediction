{
 "cells": [
  {
   "cell_type": "markdown",
   "metadata": {},
   "source": [
    "## Pre processing"
   ]
  },
  {
   "cell_type": "code",
   "execution_count": 1,
   "metadata": {},
   "outputs": [],
   "source": [
    "import pandas as pd\n",
    "import numpy as np\n",
    "import joblib\n",
    "import pickle\n",
    "import os\n",
    "\n",
    "# Pipeline\n",
    "from sklearn.pipeline import Pipeline\n",
    "from sklearn.pipeline import FeatureUnion\n",
    "\n",
    "# Transformers\n",
    "from sklearn.preprocessing import MinMaxScaler, LabelEncoder\n",
    "from sklearn.impute import SimpleImputer\n",
    "from lib.transformers import\\\n",
    "                            FeatureNamer,\\\n",
    "                            FeatureRemover,\\\n",
    "                            CustomLabelEncoder,\\\n",
    "                            AgeReplacer,\\\n",
    "                            TimeFeatureCreator,\\\n",
    "                            ColumnSelector\n",
    "\n",
    "# removendo avisos de atualizacao de bibliotecas\n",
    "import warnings\n",
    "warnings.filterwarnings(\"ignore\")"
   ]
  },
  {
   "cell_type": "code",
   "execution_count": 2,
   "metadata": {},
   "outputs": [],
   "source": [
    "# Macros\n",
    "\n",
    "DATA_PATH = 'data/df_train.csv'\n",
    "PREPARATION_PATH = 'outputs/data_pipeline.sav'"
   ]
  },
  {
   "cell_type": "code",
   "execution_count": 3,
   "metadata": {},
   "outputs": [
    {
     "output_type": "execute_result",
     "data": {
      "text/plain": [
       "                                       0               1               2  \\\n",
       "Unnamed: 0                        192293          141719           16671   \n",
       "id                            wqpe22hwjb      l144s4m9mu      y6extte83s   \n",
       "date_account_created          2014-05-20      2014-01-14      2012-02-09   \n",
       "timestamp_first_active    20140520182222  20140114180853  20120209001110   \n",
       "gender                         -unknown-          FEMALE       -unknown-   \n",
       "age                                  NaN            28.0             NaN   \n",
       "signup_method                      basic           basic           basic   \n",
       "signup_flow                            0               0               0   \n",
       "language                              en              en              en   \n",
       "affiliate_channel          sem-non-brand           other          direct   \n",
       "affiliate_provider                google           other          direct   \n",
       "first_affiliate_tracked              omg             omg             NaN   \n",
       "signup_app                           Web             Web             Web   \n",
       "first_device_type        Windows Desktop     Mac Desktop   Other/Unknown   \n",
       "first_browser                         IE          Safari       -unknown-   \n",
       "country_destination                  NDF              FR             NDF   \n",
       "\n",
       "                                      3               4  \n",
       "Unnamed: 0                        87691          116909  \n",
       "id                           1u2r6m6ets      oleaq2ki3k  \n",
       "date_account_created         2013-07-01      2013-10-15  \n",
       "timestamp_first_active   20130701060451  20131015032212  \n",
       "gender                             MALE       -unknown-  \n",
       "age                                30.0            57.0  \n",
       "signup_method                     basic           basic  \n",
       "signup_flow                           0               0  \n",
       "language                             en              en  \n",
       "affiliate_channel                direct          direct  \n",
       "affiliate_provider               direct          direct  \n",
       "first_affiliate_tracked             omg       untracked  \n",
       "signup_app                          Web             Web  \n",
       "first_device_type           Mac Desktop            iPad  \n",
       "first_browser                    Chrome   Mobile Safari  \n",
       "country_destination                  US             NDF  "
      ],
      "text/html": "<div>\n<style scoped>\n    .dataframe tbody tr th:only-of-type {\n        vertical-align: middle;\n    }\n\n    .dataframe tbody tr th {\n        vertical-align: top;\n    }\n\n    .dataframe thead th {\n        text-align: right;\n    }\n</style>\n<table border=\"1\" class=\"dataframe\">\n  <thead>\n    <tr style=\"text-align: right;\">\n      <th></th>\n      <th>0</th>\n      <th>1</th>\n      <th>2</th>\n      <th>3</th>\n      <th>4</th>\n    </tr>\n  </thead>\n  <tbody>\n    <tr>\n      <th>Unnamed: 0</th>\n      <td>192293</td>\n      <td>141719</td>\n      <td>16671</td>\n      <td>87691</td>\n      <td>116909</td>\n    </tr>\n    <tr>\n      <th>id</th>\n      <td>wqpe22hwjb</td>\n      <td>l144s4m9mu</td>\n      <td>y6extte83s</td>\n      <td>1u2r6m6ets</td>\n      <td>oleaq2ki3k</td>\n    </tr>\n    <tr>\n      <th>date_account_created</th>\n      <td>2014-05-20</td>\n      <td>2014-01-14</td>\n      <td>2012-02-09</td>\n      <td>2013-07-01</td>\n      <td>2013-10-15</td>\n    </tr>\n    <tr>\n      <th>timestamp_first_active</th>\n      <td>20140520182222</td>\n      <td>20140114180853</td>\n      <td>20120209001110</td>\n      <td>20130701060451</td>\n      <td>20131015032212</td>\n    </tr>\n    <tr>\n      <th>gender</th>\n      <td>-unknown-</td>\n      <td>FEMALE</td>\n      <td>-unknown-</td>\n      <td>MALE</td>\n      <td>-unknown-</td>\n    </tr>\n    <tr>\n      <th>age</th>\n      <td>NaN</td>\n      <td>28.0</td>\n      <td>NaN</td>\n      <td>30.0</td>\n      <td>57.0</td>\n    </tr>\n    <tr>\n      <th>signup_method</th>\n      <td>basic</td>\n      <td>basic</td>\n      <td>basic</td>\n      <td>basic</td>\n      <td>basic</td>\n    </tr>\n    <tr>\n      <th>signup_flow</th>\n      <td>0</td>\n      <td>0</td>\n      <td>0</td>\n      <td>0</td>\n      <td>0</td>\n    </tr>\n    <tr>\n      <th>language</th>\n      <td>en</td>\n      <td>en</td>\n      <td>en</td>\n      <td>en</td>\n      <td>en</td>\n    </tr>\n    <tr>\n      <th>affiliate_channel</th>\n      <td>sem-non-brand</td>\n      <td>other</td>\n      <td>direct</td>\n      <td>direct</td>\n      <td>direct</td>\n    </tr>\n    <tr>\n      <th>affiliate_provider</th>\n      <td>google</td>\n      <td>other</td>\n      <td>direct</td>\n      <td>direct</td>\n      <td>direct</td>\n    </tr>\n    <tr>\n      <th>first_affiliate_tracked</th>\n      <td>omg</td>\n      <td>omg</td>\n      <td>NaN</td>\n      <td>omg</td>\n      <td>untracked</td>\n    </tr>\n    <tr>\n      <th>signup_app</th>\n      <td>Web</td>\n      <td>Web</td>\n      <td>Web</td>\n      <td>Web</td>\n      <td>Web</td>\n    </tr>\n    <tr>\n      <th>first_device_type</th>\n      <td>Windows Desktop</td>\n      <td>Mac Desktop</td>\n      <td>Other/Unknown</td>\n      <td>Mac Desktop</td>\n      <td>iPad</td>\n    </tr>\n    <tr>\n      <th>first_browser</th>\n      <td>IE</td>\n      <td>Safari</td>\n      <td>-unknown-</td>\n      <td>Chrome</td>\n      <td>Mobile Safari</td>\n    </tr>\n    <tr>\n      <th>country_destination</th>\n      <td>NDF</td>\n      <td>FR</td>\n      <td>NDF</td>\n      <td>US</td>\n      <td>NDF</td>\n    </tr>\n  </tbody>\n</table>\n</div>"
     },
     "metadata": {},
     "execution_count": 3
    }
   ],
   "source": [
    "df = pd.read_csv(DATA_PATH)\n",
    "df.head().T"
   ]
  },
  {
   "cell_type": "code",
   "execution_count": 4,
   "metadata": {},
   "outputs": [
    {
     "output_type": "execute_result",
     "data": {
      "text/plain": [
       "  date_account_created  timestamp_first_active     gender   age signup_method  \\\n",
       "0           2014-05-20          20140520182222  -unknown-   NaN         basic   \n",
       "1           2014-01-14          20140114180853     FEMALE  28.0         basic   \n",
       "\n",
       "   signup_flow language affiliate_channel affiliate_provider  \\\n",
       "0            0       en     sem-non-brand             google   \n",
       "1            0       en             other              other   \n",
       "\n",
       "  first_affiliate_tracked signup_app first_device_type first_browser  \n",
       "0                     omg        Web   Windows Desktop            IE  \n",
       "1                     omg        Web       Mac Desktop        Safari  "
      ],
      "text/html": "<div>\n<style scoped>\n    .dataframe tbody tr th:only-of-type {\n        vertical-align: middle;\n    }\n\n    .dataframe tbody tr th {\n        vertical-align: top;\n    }\n\n    .dataframe thead th {\n        text-align: right;\n    }\n</style>\n<table border=\"1\" class=\"dataframe\">\n  <thead>\n    <tr style=\"text-align: right;\">\n      <th></th>\n      <th>date_account_created</th>\n      <th>timestamp_first_active</th>\n      <th>gender</th>\n      <th>age</th>\n      <th>signup_method</th>\n      <th>signup_flow</th>\n      <th>language</th>\n      <th>affiliate_channel</th>\n      <th>affiliate_provider</th>\n      <th>first_affiliate_tracked</th>\n      <th>signup_app</th>\n      <th>first_device_type</th>\n      <th>first_browser</th>\n    </tr>\n  </thead>\n  <tbody>\n    <tr>\n      <th>0</th>\n      <td>2014-05-20</td>\n      <td>20140520182222</td>\n      <td>-unknown-</td>\n      <td>NaN</td>\n      <td>basic</td>\n      <td>0</td>\n      <td>en</td>\n      <td>sem-non-brand</td>\n      <td>google</td>\n      <td>omg</td>\n      <td>Web</td>\n      <td>Windows Desktop</td>\n      <td>IE</td>\n    </tr>\n    <tr>\n      <th>1</th>\n      <td>2014-01-14</td>\n      <td>20140114180853</td>\n      <td>FEMALE</td>\n      <td>28.0</td>\n      <td>basic</td>\n      <td>0</td>\n      <td>en</td>\n      <td>other</td>\n      <td>other</td>\n      <td>omg</td>\n      <td>Web</td>\n      <td>Mac Desktop</td>\n      <td>Safari</td>\n    </tr>\n  </tbody>\n</table>\n</div>"
     },
     "metadata": {},
     "execution_count": 4
    }
   ],
   "source": [
    "# Removing the target variable and attributes that don't add usefull information to the model\n",
    "X = df.copy()\n",
    "X.drop(['Unnamed: 0', 'country_destination', 'id'], axis=1, inplace=True)\n",
    "X.head(2)"
   ]
  },
  {
   "cell_type": "code",
   "execution_count": 5,
   "metadata": {},
   "outputs": [
    {
     "output_type": "stream",
     "name": "stdout",
     "text": [
      "Numéricos:  ['age', 'signup_flow']\nCategóricos:  ['gender', 'signup_method', 'language', 'affiliate_channel', 'affiliate_provider', 'first_affiliate_tracked', 'signup_app', 'first_device_type', 'first_browser']\n"
     ]
    }
   ],
   "source": [
    "# Splitting columns into numerical and categorical features\n",
    "\n",
    "features = X.columns\n",
    "time_features = ['date_account_created', 'timestamp_first_active']\n",
    "\n",
    "num_features = X.drop(time_features, axis=1).select_dtypes(include=np.number).columns.tolist()\n",
    "df_num = X[num_features]\n",
    "print('Numéricos: ', num_features)\n",
    "\n",
    "cat_features = X.drop(time_features, axis=1).select_dtypes(exclude=np.number).columns.tolist()\n",
    "df_cat = X[cat_features]\n",
    "print('Categóricos: ', cat_features)"
   ]
  },
  {
   "source": [
    "# Feature Engineering with time data"
   ],
   "cell_type": "markdown",
   "metadata": {}
  },
  {
   "cell_type": "code",
   "execution_count": 6,
   "metadata": {},
   "outputs": [
    {
     "output_type": "execute_result",
     "data": {
      "text/plain": [
       "   timestamp_first_active  first_active_on_creation_date  register_year  \\\n",
       "0          20140520182222                              1           2014   \n",
       "1          20140114180853                              1           2014   \n",
       "2          20120209001110                              1           2012   \n",
       "3          20130701060451                              1           2013   \n",
       "4          20131015032212                              1           2013   \n",
       "\n",
       "   register_month  register_day  register_weekday  \n",
       "0               5            20                 2  \n",
       "1               1            14                 2  \n",
       "2               2             9                 4  \n",
       "3               7             1                 1  \n",
       "4              10            15                 2  "
      ],
      "text/html": "<div>\n<style scoped>\n    .dataframe tbody tr th:only-of-type {\n        vertical-align: middle;\n    }\n\n    .dataframe tbody tr th {\n        vertical-align: top;\n    }\n\n    .dataframe thead th {\n        text-align: right;\n    }\n</style>\n<table border=\"1\" class=\"dataframe\">\n  <thead>\n    <tr style=\"text-align: right;\">\n      <th></th>\n      <th>timestamp_first_active</th>\n      <th>first_active_on_creation_date</th>\n      <th>register_year</th>\n      <th>register_month</th>\n      <th>register_day</th>\n      <th>register_weekday</th>\n    </tr>\n  </thead>\n  <tbody>\n    <tr>\n      <th>0</th>\n      <td>20140520182222</td>\n      <td>1</td>\n      <td>2014</td>\n      <td>5</td>\n      <td>20</td>\n      <td>2</td>\n    </tr>\n    <tr>\n      <th>1</th>\n      <td>20140114180853</td>\n      <td>1</td>\n      <td>2014</td>\n      <td>1</td>\n      <td>14</td>\n      <td>2</td>\n    </tr>\n    <tr>\n      <th>2</th>\n      <td>20120209001110</td>\n      <td>1</td>\n      <td>2012</td>\n      <td>2</td>\n      <td>9</td>\n      <td>4</td>\n    </tr>\n    <tr>\n      <th>3</th>\n      <td>20130701060451</td>\n      <td>1</td>\n      <td>2013</td>\n      <td>7</td>\n      <td>1</td>\n      <td>1</td>\n    </tr>\n    <tr>\n      <th>4</th>\n      <td>20131015032212</td>\n      <td>1</td>\n      <td>2013</td>\n      <td>10</td>\n      <td>15</td>\n      <td>2</td>\n    </tr>\n  </tbody>\n</table>\n</div>"
     },
     "metadata": {},
     "execution_count": 6
    }
   ],
   "source": [
    "time_transformer = Pipeline(steps=[\n",
    "    ('selector', ColumnSelector(time_features)),\n",
    "    ('feature_engineering', TimeFeatureCreator())])\n",
    "df_time = time_transformer.fit_transform(X)\n",
    "df_time.head()"
   ]
  },
  {
   "source": [
    "# Categorical Variables"
   ],
   "cell_type": "markdown",
   "metadata": {}
  },
  {
   "cell_type": "code",
   "execution_count": 7,
   "metadata": {},
   "outputs": [
    {
     "output_type": "stream",
     "name": "stdout",
     "text": [
      "[Pipeline] .......... (step 1 of 3) Processing selector, total=   0.0s\n[Pipeline] ........... (step 2 of 3) Processing imputer, total=   0.1s\n[Pipeline] ............. (step 3 of 3) Processing namer, total=   0.0s\n"
     ]
    },
    {
     "output_type": "execute_result",
     "data": {
      "text/plain": [
       "                          count unique          top    freq\n",
       "gender                   146082      4    -unknown-   67053\n",
       "signup_method            146082      3        basic  104491\n",
       "language                 146082     25           en  141210\n",
       "affiliate_channel        146082      8       direct   93838\n",
       "affiliate_provider       146082     17       direct   93648\n",
       "first_affiliate_tracked  146082      8    untracked   74341\n",
       "signup_app               146082      4          Web  124263\n",
       "first_device_type        146082      9  Mac Desktop   60666\n",
       "first_browser            146082     47       Chrome   43080"
      ],
      "text/html": "<div>\n<style scoped>\n    .dataframe tbody tr th:only-of-type {\n        vertical-align: middle;\n    }\n\n    .dataframe tbody tr th {\n        vertical-align: top;\n    }\n\n    .dataframe thead th {\n        text-align: right;\n    }\n</style>\n<table border=\"1\" class=\"dataframe\">\n  <thead>\n    <tr style=\"text-align: right;\">\n      <th></th>\n      <th>count</th>\n      <th>unique</th>\n      <th>top</th>\n      <th>freq</th>\n    </tr>\n  </thead>\n  <tbody>\n    <tr>\n      <th>gender</th>\n      <td>146082</td>\n      <td>4</td>\n      <td>-unknown-</td>\n      <td>67053</td>\n    </tr>\n    <tr>\n      <th>signup_method</th>\n      <td>146082</td>\n      <td>3</td>\n      <td>basic</td>\n      <td>104491</td>\n    </tr>\n    <tr>\n      <th>language</th>\n      <td>146082</td>\n      <td>25</td>\n      <td>en</td>\n      <td>141210</td>\n    </tr>\n    <tr>\n      <th>affiliate_channel</th>\n      <td>146082</td>\n      <td>8</td>\n      <td>direct</td>\n      <td>93838</td>\n    </tr>\n    <tr>\n      <th>affiliate_provider</th>\n      <td>146082</td>\n      <td>17</td>\n      <td>direct</td>\n      <td>93648</td>\n    </tr>\n    <tr>\n      <th>first_affiliate_tracked</th>\n      <td>146082</td>\n      <td>8</td>\n      <td>untracked</td>\n      <td>74341</td>\n    </tr>\n    <tr>\n      <th>signup_app</th>\n      <td>146082</td>\n      <td>4</td>\n      <td>Web</td>\n      <td>124263</td>\n    </tr>\n    <tr>\n      <th>first_device_type</th>\n      <td>146082</td>\n      <td>9</td>\n      <td>Mac Desktop</td>\n      <td>60666</td>\n    </tr>\n    <tr>\n      <th>first_browser</th>\n      <td>146082</td>\n      <td>47</td>\n      <td>Chrome</td>\n      <td>43080</td>\n    </tr>\n  </tbody>\n</table>\n</div>"
     },
     "metadata": {},
     "execution_count": 7
    }
   ],
   "source": [
    "cat_transformer = Pipeline(steps=[\n",
    "    ('selector', ColumnSelector(cat_features)),\n",
    "    ('imputer', SimpleImputer(strategy='constant', fill_value='N/A')),\n",
    "    ('namer', FeatureNamer(columns=cat_features))\n",
    "], verbose=True)\n",
    "\n",
    "df_cat = cat_transformer.fit_transform(X)\n",
    "df_cat.describe().transpose()"
   ]
  },
  {
   "cell_type": "markdown",
   "metadata": {},
   "source": [
    "## Label encoder"
   ]
  },
  {
   "cell_type": "code",
   "execution_count": 8,
   "metadata": {},
   "outputs": [
    {
     "output_type": "stream",
     "name": "stdout",
     "text": [
      "[Pipeline] .......... (step 1 of 4) Processing selector, total=   0.0s\n",
      "[Pipeline] ........... (step 2 of 4) Processing imputer, total=   0.1s\n",
      "[Pipeline] ............. (step 3 of 4) Processing namer, total=   0.0s\n",
      "[Pipeline] ........ (step 4 of 4) Processing normalizar, total=   0.4s\n"
     ]
    },
    {
     "output_type": "execute_result",
     "data": {
      "text/plain": [
       "   gender  signup_method  language  affiliate_channel  affiliate_provider  \\\n",
       "0       0              0         5                  6                   7   \n",
       "1       1              0         5                  3                  11   \n",
       "2       0              0         5                  2                   3   \n",
       "3       2              0         5                  2                   3   \n",
       "4       0              0         5                  2                   3   \n",
       "\n",
       "   first_affiliate_tracked  signup_app  first_device_type  first_browser  \n",
       "0                        4           2                  6             18  \n",
       "1                        4           2                  3             36  \n",
       "2                        0           2                  4              0  \n",
       "3                        4           2                  3              8  \n",
       "4                        7           2                  7             25  "
      ],
      "text/html": "<div>\n<style scoped>\n    .dataframe tbody tr th:only-of-type {\n        vertical-align: middle;\n    }\n\n    .dataframe tbody tr th {\n        vertical-align: top;\n    }\n\n    .dataframe thead th {\n        text-align: right;\n    }\n</style>\n<table border=\"1\" class=\"dataframe\">\n  <thead>\n    <tr style=\"text-align: right;\">\n      <th></th>\n      <th>gender</th>\n      <th>signup_method</th>\n      <th>language</th>\n      <th>affiliate_channel</th>\n      <th>affiliate_provider</th>\n      <th>first_affiliate_tracked</th>\n      <th>signup_app</th>\n      <th>first_device_type</th>\n      <th>first_browser</th>\n    </tr>\n  </thead>\n  <tbody>\n    <tr>\n      <th>0</th>\n      <td>0</td>\n      <td>0</td>\n      <td>5</td>\n      <td>6</td>\n      <td>7</td>\n      <td>4</td>\n      <td>2</td>\n      <td>6</td>\n      <td>18</td>\n    </tr>\n    <tr>\n      <th>1</th>\n      <td>1</td>\n      <td>0</td>\n      <td>5</td>\n      <td>3</td>\n      <td>11</td>\n      <td>4</td>\n      <td>2</td>\n      <td>3</td>\n      <td>36</td>\n    </tr>\n    <tr>\n      <th>2</th>\n      <td>0</td>\n      <td>0</td>\n      <td>5</td>\n      <td>2</td>\n      <td>3</td>\n      <td>0</td>\n      <td>2</td>\n      <td>4</td>\n      <td>0</td>\n    </tr>\n    <tr>\n      <th>3</th>\n      <td>2</td>\n      <td>0</td>\n      <td>5</td>\n      <td>2</td>\n      <td>3</td>\n      <td>4</td>\n      <td>2</td>\n      <td>3</td>\n      <td>8</td>\n    </tr>\n    <tr>\n      <th>4</th>\n      <td>0</td>\n      <td>0</td>\n      <td>5</td>\n      <td>2</td>\n      <td>3</td>\n      <td>7</td>\n      <td>2</td>\n      <td>7</td>\n      <td>25</td>\n    </tr>\n  </tbody>\n</table>\n</div>"
     },
     "metadata": {},
     "execution_count": 8
    }
   ],
   "source": [
    "cat_transformer.steps.append(('normalizar', CustomLabelEncoder()))\n",
    "df_cat = cat_transformer.fit_transform(X)\n",
    "df_cat.head()"
   ]
  },
  {
   "cell_type": "markdown",
   "metadata": {},
   "source": [
    "# Numerical Features handling"
   ]
  },
  {
   "cell_type": "markdown",
   "metadata": {},
   "source": [
    "## Missing values imputing"
   ]
  },
  {
   "cell_type": "code",
   "execution_count": 9,
   "metadata": {},
   "outputs": [
    {
     "output_type": "stream",
     "name": "stdout",
     "text": [
      "Quantidade de valores inválidos (NaN) categóricos ou numéricos: 67019\nQuantidade valores negativos (só numéricos): 0\n"
     ]
    }
   ],
   "source": [
    "print('Quantidade de valores inválidos (NaN) categóricos ou numéricos:',\n",
    "      X.isna().sum().sum())\n",
    "\n",
    "print('Quantidade valores negativos (só numéricos):',\n",
    "      df_num[df_num < 0].dropna().shape[0])"
   ]
  },
  {
   "cell_type": "code",
   "execution_count": 10,
   "metadata": {},
   "outputs": [
    {
     "output_type": "stream",
     "name": "stdout",
     "text": [
      "Quantidade de valores inválidos: 0\n"
     ]
    }
   ],
   "source": [
    "num_transformer = Pipeline(steps=[\n",
    "    ('selector', ColumnSelector(num_features)),\n",
    "    ('imputer', SimpleImputer(missing_values=np.nan, strategy='mean')),\n",
    "    ('namer', FeatureNamer(columns=num_features))\n",
    "])\n",
    "\n",
    "df_num = num_transformer.fit_transform(X)\n",
    "\n",
    "# Verificando se os valores foram realmente substituídos\n",
    "print('Quantidade de valores inválidos:', df_num.isna().sum().sum())"
   ]
  },
  {
   "source": [
    "## Dealing with incorrect ages"
   ],
   "cell_type": "markdown",
   "metadata": {}
  },
  {
   "cell_type": "code",
   "execution_count": 11,
   "metadata": {},
   "outputs": [
    {
     "output_type": "stream",
     "name": "stdout",
     "text": [
      "Valores acima do limiar de idade: [1924. 1926. 1927. 1928. 1929. 1931. 1932. 1933. 1935. 1936. 1938. 1942.\n 1947. 1949. 1952. 1953. 1995. 2008. 2013. 2014.]\nValores abaixo do limiar de idade: [1. 2. 4. 5.]\n"
     ]
    }
   ],
   "source": [
    "MIN_AGE = 7\n",
    "MAX_AGE = 120\n",
    "\n",
    "print(f\"Valores acima do limiar de idade: {np.sort(df_num[df_num['age'] >= MAX_AGE]['age'].unique())}\")\n",
    "print(f\"Valores abaixo do limiar de idade: {np.sort(df_num[df_num['age'] < MIN_AGE]['age'].unique())}\")"
   ]
  },
  {
   "cell_type": "code",
   "execution_count": 12,
   "metadata": {},
   "outputs": [
    {
     "output_type": "stream",
     "name": "stdout",
     "text": [
      "Valores acima do limiar de idade: []\nValores abaixo do limiar de idade: []\n"
     ]
    }
   ],
   "source": [
    "num_transformer.steps.append(('age_outlier_replacement', AgeReplacer('age', MIN_AGE, MAX_AGE)))\n",
    "\n",
    "df_num = num_transformer.fit_transform(X)\n",
    "\n",
    "print(f\"Valores acima do limiar de idade: {np.sort(df_num[df_num['age'] >= MAX_AGE]['age'].unique())}\")\n",
    "print(f\"Valores abaixo do limiar de idade: {np.sort(df_num[df_num['age'] < MIN_AGE]['age'].unique())}\")"
   ]
  },
  {
   "cell_type": "markdown",
   "metadata": {},
   "source": [
    "## Feature normalization"
   ]
  },
  {
   "cell_type": "code",
   "execution_count": 13,
   "metadata": {},
   "outputs": [
    {
     "output_type": "execute_result",
     "data": {
      "text/plain": [
       "                count       mean        std  min   25%        50%        75%  \\\n",
       "age          146082.0  42.409145  12.195242  7.0  32.0  49.266314  49.266314   \n",
       "signup_flow  146082.0   3.366062   7.750881  0.0   0.0   0.000000   0.000000   \n",
       "\n",
       "               max  \n",
       "age          115.0  \n",
       "signup_flow   25.0  "
      ],
      "text/html": "<div>\n<style scoped>\n    .dataframe tbody tr th:only-of-type {\n        vertical-align: middle;\n    }\n\n    .dataframe tbody tr th {\n        vertical-align: top;\n    }\n\n    .dataframe thead th {\n        text-align: right;\n    }\n</style>\n<table border=\"1\" class=\"dataframe\">\n  <thead>\n    <tr style=\"text-align: right;\">\n      <th></th>\n      <th>count</th>\n      <th>mean</th>\n      <th>std</th>\n      <th>min</th>\n      <th>25%</th>\n      <th>50%</th>\n      <th>75%</th>\n      <th>max</th>\n    </tr>\n  </thead>\n  <tbody>\n    <tr>\n      <th>age</th>\n      <td>146082.0</td>\n      <td>42.409145</td>\n      <td>12.195242</td>\n      <td>7.0</td>\n      <td>32.0</td>\n      <td>49.266314</td>\n      <td>49.266314</td>\n      <td>115.0</td>\n    </tr>\n    <tr>\n      <th>signup_flow</th>\n      <td>146082.0</td>\n      <td>3.366062</td>\n      <td>7.750881</td>\n      <td>0.0</td>\n      <td>0.0</td>\n      <td>0.000000</td>\n      <td>0.000000</td>\n      <td>25.0</td>\n    </tr>\n  </tbody>\n</table>\n</div>"
     },
     "metadata": {},
     "execution_count": 13
    }
   ],
   "source": [
    "df_num.describe().T"
   ]
  },
  {
   "cell_type": "code",
   "execution_count": 14,
   "metadata": {},
   "outputs": [],
   "source": [
    "num_transformer.steps.append(('normalizer', MinMaxScaler()))\n",
    "num_transformer.steps.append(('name', FeatureNamer(columns=num_features)))\n",
    "\n",
    "df_num = pd.DataFrame(num_transformer.fit_transform(X), columns=num_features)"
   ]
  },
  {
   "cell_type": "code",
   "execution_count": 15,
   "metadata": {},
   "outputs": [
    {
     "output_type": "execute_result",
     "data": {
      "text/plain": [
       "                count      mean       std  min       25%       50%       75%  \\\n",
       "age          146082.0  0.327862  0.112919  0.0  0.231481  0.391355  0.391355   \n",
       "signup_flow  146082.0  0.134642  0.310035  0.0  0.000000  0.000000  0.000000   \n",
       "\n",
       "             max  \n",
       "age          1.0  \n",
       "signup_flow  1.0  "
      ],
      "text/html": "<div>\n<style scoped>\n    .dataframe tbody tr th:only-of-type {\n        vertical-align: middle;\n    }\n\n    .dataframe tbody tr th {\n        vertical-align: top;\n    }\n\n    .dataframe thead th {\n        text-align: right;\n    }\n</style>\n<table border=\"1\" class=\"dataframe\">\n  <thead>\n    <tr style=\"text-align: right;\">\n      <th></th>\n      <th>count</th>\n      <th>mean</th>\n      <th>std</th>\n      <th>min</th>\n      <th>25%</th>\n      <th>50%</th>\n      <th>75%</th>\n      <th>max</th>\n    </tr>\n  </thead>\n  <tbody>\n    <tr>\n      <th>age</th>\n      <td>146082.0</td>\n      <td>0.327862</td>\n      <td>0.112919</td>\n      <td>0.0</td>\n      <td>0.231481</td>\n      <td>0.391355</td>\n      <td>0.391355</td>\n      <td>1.0</td>\n    </tr>\n    <tr>\n      <th>signup_flow</th>\n      <td>146082.0</td>\n      <td>0.134642</td>\n      <td>0.310035</td>\n      <td>0.0</td>\n      <td>0.000000</td>\n      <td>0.000000</td>\n      <td>0.000000</td>\n      <td>1.0</td>\n    </tr>\n  </tbody>\n</table>\n</div>"
     },
     "metadata": {},
     "execution_count": 15
    }
   ],
   "source": [
    "df_num.describe() \\\n",
    "      .transpose() \\\n",
    "      .sort_index()"
   ]
  },
  {
   "source": [
    "# Saving data pre processing pipeline"
   ],
   "cell_type": "markdown",
   "metadata": {}
  },
  {
   "cell_type": "code",
   "execution_count": 16,
   "metadata": {},
   "outputs": [],
   "source": [
    "features = df_time.join(df_num).join(df_cat).columns\n",
    "\n",
    "preprocessing_pipeline = FeatureUnion([\n",
    "    ('time_transformer', time_transformer),\n",
    "    ('num_transformer', num_transformer),\n",
    "    ('cat_transformer', cat_transformer),\n",
    "])\n",
    "\n",
    "final_pipeline = Pipeline([\n",
    "    ('pre processing pipeline', preprocessing_pipeline),\n",
    "    ('namer', FeatureNamer(features)),\n",
    "])"
   ]
  },
  {
   "cell_type": "code",
   "execution_count": 17,
   "metadata": {},
   "outputs": [
    {
     "output_type": "stream",
     "name": "stdout",
     "text": [
      "[Pipeline] .......... (step 1 of 4) Processing selector, total=   0.0s\n",
      "[Pipeline] ........... (step 2 of 4) Processing imputer, total=   0.1s\n",
      "[Pipeline] ............. (step 3 of 4) Processing namer, total=   0.0s\n",
      "[Pipeline] ........ (step 4 of 4) Processing normalizar, total=   0.4s\n"
     ]
    },
    {
     "output_type": "execute_result",
     "data": {
      "text/plain": [
       "   timestamp_first_active  first_active_on_creation_date  register_year  \\\n",
       "0            2.014052e+13                            1.0         2014.0   \n",
       "1            2.014011e+13                            1.0         2014.0   \n",
       "2            2.012021e+13                            1.0         2012.0   \n",
       "3            2.013070e+13                            1.0         2013.0   \n",
       "4            2.013102e+13                            1.0         2013.0   \n",
       "\n",
       "   register_month  register_day  register_weekday       age  signup_flow  \\\n",
       "0             5.0          20.0               2.0  0.391355          0.0   \n",
       "1             1.0          14.0               2.0  0.194444          0.0   \n",
       "2             2.0           9.0               4.0  0.391355          0.0   \n",
       "3             7.0           1.0               1.0  0.212963          0.0   \n",
       "4            10.0          15.0               2.0  0.462963          0.0   \n",
       "\n",
       "   gender  signup_method  language  affiliate_channel  affiliate_provider  \\\n",
       "0     0.0            0.0       5.0                6.0                 7.0   \n",
       "1     1.0            0.0       5.0                3.0                11.0   \n",
       "2     0.0            0.0       5.0                2.0                 3.0   \n",
       "3     2.0            0.0       5.0                2.0                 3.0   \n",
       "4     0.0            0.0       5.0                2.0                 3.0   \n",
       "\n",
       "   first_affiliate_tracked  signup_app  first_device_type  first_browser  \n",
       "0                      4.0         2.0                6.0           18.0  \n",
       "1                      4.0         2.0                3.0           36.0  \n",
       "2                      0.0         2.0                4.0            0.0  \n",
       "3                      4.0         2.0                3.0            8.0  \n",
       "4                      7.0         2.0                7.0           25.0  "
      ],
      "text/html": "<div>\n<style scoped>\n    .dataframe tbody tr th:only-of-type {\n        vertical-align: middle;\n    }\n\n    .dataframe tbody tr th {\n        vertical-align: top;\n    }\n\n    .dataframe thead th {\n        text-align: right;\n    }\n</style>\n<table border=\"1\" class=\"dataframe\">\n  <thead>\n    <tr style=\"text-align: right;\">\n      <th></th>\n      <th>timestamp_first_active</th>\n      <th>first_active_on_creation_date</th>\n      <th>register_year</th>\n      <th>register_month</th>\n      <th>register_day</th>\n      <th>register_weekday</th>\n      <th>age</th>\n      <th>signup_flow</th>\n      <th>gender</th>\n      <th>signup_method</th>\n      <th>language</th>\n      <th>affiliate_channel</th>\n      <th>affiliate_provider</th>\n      <th>first_affiliate_tracked</th>\n      <th>signup_app</th>\n      <th>first_device_type</th>\n      <th>first_browser</th>\n    </tr>\n  </thead>\n  <tbody>\n    <tr>\n      <th>0</th>\n      <td>2.014052e+13</td>\n      <td>1.0</td>\n      <td>2014.0</td>\n      <td>5.0</td>\n      <td>20.0</td>\n      <td>2.0</td>\n      <td>0.391355</td>\n      <td>0.0</td>\n      <td>0.0</td>\n      <td>0.0</td>\n      <td>5.0</td>\n      <td>6.0</td>\n      <td>7.0</td>\n      <td>4.0</td>\n      <td>2.0</td>\n      <td>6.0</td>\n      <td>18.0</td>\n    </tr>\n    <tr>\n      <th>1</th>\n      <td>2.014011e+13</td>\n      <td>1.0</td>\n      <td>2014.0</td>\n      <td>1.0</td>\n      <td>14.0</td>\n      <td>2.0</td>\n      <td>0.194444</td>\n      <td>0.0</td>\n      <td>1.0</td>\n      <td>0.0</td>\n      <td>5.0</td>\n      <td>3.0</td>\n      <td>11.0</td>\n      <td>4.0</td>\n      <td>2.0</td>\n      <td>3.0</td>\n      <td>36.0</td>\n    </tr>\n    <tr>\n      <th>2</th>\n      <td>2.012021e+13</td>\n      <td>1.0</td>\n      <td>2012.0</td>\n      <td>2.0</td>\n      <td>9.0</td>\n      <td>4.0</td>\n      <td>0.391355</td>\n      <td>0.0</td>\n      <td>0.0</td>\n      <td>0.0</td>\n      <td>5.0</td>\n      <td>2.0</td>\n      <td>3.0</td>\n      <td>0.0</td>\n      <td>2.0</td>\n      <td>4.0</td>\n      <td>0.0</td>\n    </tr>\n    <tr>\n      <th>3</th>\n      <td>2.013070e+13</td>\n      <td>1.0</td>\n      <td>2013.0</td>\n      <td>7.0</td>\n      <td>1.0</td>\n      <td>1.0</td>\n      <td>0.212963</td>\n      <td>0.0</td>\n      <td>2.0</td>\n      <td>0.0</td>\n      <td>5.0</td>\n      <td>2.0</td>\n      <td>3.0</td>\n      <td>4.0</td>\n      <td>2.0</td>\n      <td>3.0</td>\n      <td>8.0</td>\n    </tr>\n    <tr>\n      <th>4</th>\n      <td>2.013102e+13</td>\n      <td>1.0</td>\n      <td>2013.0</td>\n      <td>10.0</td>\n      <td>15.0</td>\n      <td>2.0</td>\n      <td>0.462963</td>\n      <td>0.0</td>\n      <td>0.0</td>\n      <td>0.0</td>\n      <td>5.0</td>\n      <td>2.0</td>\n      <td>3.0</td>\n      <td>7.0</td>\n      <td>2.0</td>\n      <td>7.0</td>\n      <td>25.0</td>\n    </tr>\n  </tbody>\n</table>\n</div>"
     },
     "metadata": {},
     "execution_count": 17
    }
   ],
   "source": [
    "processado = final_pipeline.fit_transform(X)\n",
    "processado.head()"
   ]
  },
  {
   "cell_type": "code",
   "execution_count": 18,
   "metadata": {},
   "outputs": [
    {
     "output_type": "execute_result",
     "data": {
      "text/plain": [
       "['outputs/data_pipeline.sav']"
      ]
     },
     "metadata": {},
     "execution_count": 18
    }
   ],
   "source": [
    "joblib.dump(final_pipeline, PREPARATION_PATH)"
   ]
  },
  {
   "cell_type": "code",
   "execution_count": null,
   "metadata": {},
   "outputs": [],
   "source": []
  }
 ],
 "metadata": {
  "kernelspec": {
   "name": "python3",
   "display_name": "Python 3.8.5 64-bit ('venv': venv)"
  },
  "language_info": {
   "codemirror_mode": {
    "name": "ipython",
    "version": 3
   },
   "file_extension": ".py",
   "mimetype": "text/x-python",
   "name": "python",
   "nbconvert_exporter": "python",
   "pygments_lexer": "ipython3",
   "version": "3.8.5"
  },
  "interpreter": {
   "hash": "1feb950f313c837177a7fb2ff69b5b06c982672b6857a613a9da737c7374dbdb"
  }
 },
 "nbformat": 4,
 "nbformat_minor": 4
}