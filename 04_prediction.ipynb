{
 "metadata": {
  "language_info": {
   "codemirror_mode": {
    "name": "ipython",
    "version": 3
   },
   "file_extension": ".py",
   "mimetype": "text/x-python",
   "name": "python",
   "nbconvert_exporter": "python",
   "pygments_lexer": "ipython3",
   "version": "3.8.5"
  },
  "orig_nbformat": 4,
  "kernelspec": {
   "name": "python3",
   "display_name": "Python 3.8.5 64-bit ('venv': venv)"
  },
  "interpreter": {
   "hash": "1feb950f313c837177a7fb2ff69b5b06c982672b6857a613a9da737c7374dbdb"
  }
 },
 "nbformat": 4,
 "nbformat_minor": 2,
 "cells": [
  {
   "source": [
    "# Prediction"
   ],
   "cell_type": "markdown",
   "metadata": {}
  },
  {
   "cell_type": "code",
   "execution_count": 8,
   "metadata": {},
   "outputs": [],
   "source": [
    "import pandas as pd\n",
    "import joblib\n",
    "\n",
    "# removendo avisos de atualizacao de bibliotecas\n",
    "import warnings\n",
    "warnings.filterwarnings(\"ignore\")"
   ]
  },
  {
   "cell_type": "code",
   "execution_count": 17,
   "metadata": {},
   "outputs": [],
   "source": [
    "# Macros\n",
    "\n",
    "COLS_TO_REMOVE = ['Unnamed: 0']\n",
    "DATA_PATH = 'data/df_test_no_label.csv'\n",
    "PREPARATION_PATH = 'outputs/data_pipeline.sav'\n",
    "MODEL_PATH = 'outputs/model.sav'\n",
    "OUTPUT_PATH = 'data/predictions.csv'"
   ]
  },
  {
   "cell_type": "code",
   "execution_count": 6,
   "metadata": {},
   "outputs": [
    {
     "output_type": "execute_result",
     "data": {
      "text/plain": [
       "id                           oib8mib64c      6ooe791roo       vuc45jn3n6  \\\n",
       "date_account_created         2014-04-10      2013-10-29       2013-05-05   \n",
       "timestamp_first_active   20140410030115  20131029052221   20130505201711   \n",
       "gender                        -unknown-       -unknown-        -unknown-   \n",
       "age                                 NaN             NaN              NaN   \n",
       "signup_method                     basic           basic            basic   \n",
       "signup_flow                          25              23                0   \n",
       "language                             en              en               en   \n",
       "affiliate_channel                direct          direct    sem-non-brand   \n",
       "affiliate_provider               direct          direct           google   \n",
       "first_affiliate_tracked       untracked       untracked              omg   \n",
       "signup_app                          iOS         Android              Web   \n",
       "first_device_type                iPhone   Other/Unknown  Windows Desktop   \n",
       "first_browser                 -unknown-       -unknown-           Chrome   \n",
       "\n",
       "id                           5hlqns1q9f       u3ypbvdw3z  \n",
       "date_account_created         2013-11-20       2014-04-18  \n",
       "timestamp_first_active   20131120064542   20140418194219  \n",
       "gender                           FEMALE        -unknown-  \n",
       "age                                 NaN              NaN  \n",
       "signup_method                     basic            basic  \n",
       "signup_flow                           0                0  \n",
       "language                             en               en  \n",
       "affiliate_channel                direct           direct  \n",
       "affiliate_provider               direct           direct  \n",
       "first_affiliate_tracked       untracked           linked  \n",
       "signup_app                          Web              Web  \n",
       "first_device_type           Mac Desktop  Windows Desktop  \n",
       "first_browser                   Firefox               IE  "
      ],
      "text/html": "<div>\n<style scoped>\n    .dataframe tbody tr th:only-of-type {\n        vertical-align: middle;\n    }\n\n    .dataframe tbody tr th {\n        vertical-align: top;\n    }\n\n    .dataframe thead th {\n        text-align: right;\n    }\n</style>\n<table border=\"1\" class=\"dataframe\">\n  <thead>\n    <tr style=\"text-align: right;\">\n      <th>id</th>\n      <th>oib8mib64c</th>\n      <th>6ooe791roo</th>\n      <th>vuc45jn3n6</th>\n      <th>5hlqns1q9f</th>\n      <th>u3ypbvdw3z</th>\n    </tr>\n  </thead>\n  <tbody>\n    <tr>\n      <th>date_account_created</th>\n      <td>2014-04-10</td>\n      <td>2013-10-29</td>\n      <td>2013-05-05</td>\n      <td>2013-11-20</td>\n      <td>2014-04-18</td>\n    </tr>\n    <tr>\n      <th>timestamp_first_active</th>\n      <td>20140410030115</td>\n      <td>20131029052221</td>\n      <td>20130505201711</td>\n      <td>20131120064542</td>\n      <td>20140418194219</td>\n    </tr>\n    <tr>\n      <th>gender</th>\n      <td>-unknown-</td>\n      <td>-unknown-</td>\n      <td>-unknown-</td>\n      <td>FEMALE</td>\n      <td>-unknown-</td>\n    </tr>\n    <tr>\n      <th>age</th>\n      <td>NaN</td>\n      <td>NaN</td>\n      <td>NaN</td>\n      <td>NaN</td>\n      <td>NaN</td>\n    </tr>\n    <tr>\n      <th>signup_method</th>\n      <td>basic</td>\n      <td>basic</td>\n      <td>basic</td>\n      <td>basic</td>\n      <td>basic</td>\n    </tr>\n    <tr>\n      <th>signup_flow</th>\n      <td>25</td>\n      <td>23</td>\n      <td>0</td>\n      <td>0</td>\n      <td>0</td>\n    </tr>\n    <tr>\n      <th>language</th>\n      <td>en</td>\n      <td>en</td>\n      <td>en</td>\n      <td>en</td>\n      <td>en</td>\n    </tr>\n    <tr>\n      <th>affiliate_channel</th>\n      <td>direct</td>\n      <td>direct</td>\n      <td>sem-non-brand</td>\n      <td>direct</td>\n      <td>direct</td>\n    </tr>\n    <tr>\n      <th>affiliate_provider</th>\n      <td>direct</td>\n      <td>direct</td>\n      <td>google</td>\n      <td>direct</td>\n      <td>direct</td>\n    </tr>\n    <tr>\n      <th>first_affiliate_tracked</th>\n      <td>untracked</td>\n      <td>untracked</td>\n      <td>omg</td>\n      <td>untracked</td>\n      <td>linked</td>\n    </tr>\n    <tr>\n      <th>signup_app</th>\n      <td>iOS</td>\n      <td>Android</td>\n      <td>Web</td>\n      <td>Web</td>\n      <td>Web</td>\n    </tr>\n    <tr>\n      <th>first_device_type</th>\n      <td>iPhone</td>\n      <td>Other/Unknown</td>\n      <td>Windows Desktop</td>\n      <td>Mac Desktop</td>\n      <td>Windows Desktop</td>\n    </tr>\n    <tr>\n      <th>first_browser</th>\n      <td>-unknown-</td>\n      <td>-unknown-</td>\n      <td>Chrome</td>\n      <td>Firefox</td>\n      <td>IE</td>\n    </tr>\n  </tbody>\n</table>\n</div>"
     },
     "metadata": {},
     "execution_count": 6
    }
   ],
   "source": [
    "df = pd.read_csv(DATA_PATH)\n",
    "\n",
    "# Removendo atributos que não acrescentam informações no modelo\n",
    "df.drop(COLS_TO_REMOVE, axis=1, inplace=True)\n",
    "df = df.set_index('id')\n",
    "df.head().T"
   ]
  },
  {
   "source": [
    "# Pre processing"
   ],
   "cell_type": "markdown",
   "metadata": {}
  },
  {
   "cell_type": "code",
   "execution_count": 20,
   "metadata": {},
   "outputs": [
    {
     "output_type": "execute_result",
     "data": {
      "text/plain": [
       "   timestamp_first_active  first_active_on_creation_date  register_year  \\\n",
       "0            2.014041e+13                            1.0         2014.0   \n",
       "1            2.013103e+13                            1.0         2013.0   \n",
       "2            2.013051e+13                            1.0         2013.0   \n",
       "3            2.013112e+13                            1.0         2013.0   \n",
       "4            2.014042e+13                            1.0         2014.0   \n",
       "\n",
       "   register_month  register_day  register_weekday       age  signup_flow  \\\n",
       "0             4.0          10.0               4.0  0.391355         1.00   \n",
       "1            10.0          29.0               2.0  0.391355         0.92   \n",
       "2             5.0           5.0               0.0  0.391355         0.00   \n",
       "3            11.0          20.0               3.0  0.391355         0.00   \n",
       "4             4.0          18.0               5.0  0.391355         0.00   \n",
       "\n",
       "   gender  signup_method  language  affiliate_channel  affiliate_provider  \\\n",
       "0     0.0            0.0       4.0                2.0                 3.0   \n",
       "1     0.0            0.0       4.0                2.0                 3.0   \n",
       "2     0.0            0.0       4.0                6.0                 7.0   \n",
       "3     1.0            0.0       4.0                2.0                 3.0   \n",
       "4     0.0            0.0       4.0                2.0                 3.0   \n",
       "\n",
       "   first_affiliate_tracked  signup_app  first_device_type  first_browser  \n",
       "0                      7.0         3.0                8.0            0.0  \n",
       "1                      7.0         0.0                4.0            0.0  \n",
       "2                      4.0         2.0                6.0            7.0  \n",
       "3                      7.0         2.0                3.0           14.0  \n",
       "4                      1.0         2.0                6.0           17.0  "
      ],
      "text/html": "<div>\n<style scoped>\n    .dataframe tbody tr th:only-of-type {\n        vertical-align: middle;\n    }\n\n    .dataframe tbody tr th {\n        vertical-align: top;\n    }\n\n    .dataframe thead th {\n        text-align: right;\n    }\n</style>\n<table border=\"1\" class=\"dataframe\">\n  <thead>\n    <tr style=\"text-align: right;\">\n      <th></th>\n      <th>timestamp_first_active</th>\n      <th>first_active_on_creation_date</th>\n      <th>register_year</th>\n      <th>register_month</th>\n      <th>register_day</th>\n      <th>register_weekday</th>\n      <th>age</th>\n      <th>signup_flow</th>\n      <th>gender</th>\n      <th>signup_method</th>\n      <th>language</th>\n      <th>affiliate_channel</th>\n      <th>affiliate_provider</th>\n      <th>first_affiliate_tracked</th>\n      <th>signup_app</th>\n      <th>first_device_type</th>\n      <th>first_browser</th>\n    </tr>\n  </thead>\n  <tbody>\n    <tr>\n      <th>0</th>\n      <td>2.014041e+13</td>\n      <td>1.0</td>\n      <td>2014.0</td>\n      <td>4.0</td>\n      <td>10.0</td>\n      <td>4.0</td>\n      <td>0.391355</td>\n      <td>1.00</td>\n      <td>0.0</td>\n      <td>0.0</td>\n      <td>4.0</td>\n      <td>2.0</td>\n      <td>3.0</td>\n      <td>7.0</td>\n      <td>3.0</td>\n      <td>8.0</td>\n      <td>0.0</td>\n    </tr>\n    <tr>\n      <th>1</th>\n      <td>2.013103e+13</td>\n      <td>1.0</td>\n      <td>2013.0</td>\n      <td>10.0</td>\n      <td>29.0</td>\n      <td>2.0</td>\n      <td>0.391355</td>\n      <td>0.92</td>\n      <td>0.0</td>\n      <td>0.0</td>\n      <td>4.0</td>\n      <td>2.0</td>\n      <td>3.0</td>\n      <td>7.0</td>\n      <td>0.0</td>\n      <td>4.0</td>\n      <td>0.0</td>\n    </tr>\n    <tr>\n      <th>2</th>\n      <td>2.013051e+13</td>\n      <td>1.0</td>\n      <td>2013.0</td>\n      <td>5.0</td>\n      <td>5.0</td>\n      <td>0.0</td>\n      <td>0.391355</td>\n      <td>0.00</td>\n      <td>0.0</td>\n      <td>0.0</td>\n      <td>4.0</td>\n      <td>6.0</td>\n      <td>7.0</td>\n      <td>4.0</td>\n      <td>2.0</td>\n      <td>6.0</td>\n      <td>7.0</td>\n    </tr>\n    <tr>\n      <th>3</th>\n      <td>2.013112e+13</td>\n      <td>1.0</td>\n      <td>2013.0</td>\n      <td>11.0</td>\n      <td>20.0</td>\n      <td>3.0</td>\n      <td>0.391355</td>\n      <td>0.00</td>\n      <td>1.0</td>\n      <td>0.0</td>\n      <td>4.0</td>\n      <td>2.0</td>\n      <td>3.0</td>\n      <td>7.0</td>\n      <td>2.0</td>\n      <td>3.0</td>\n      <td>14.0</td>\n    </tr>\n    <tr>\n      <th>4</th>\n      <td>2.014042e+13</td>\n      <td>1.0</td>\n      <td>2014.0</td>\n      <td>4.0</td>\n      <td>18.0</td>\n      <td>5.0</td>\n      <td>0.391355</td>\n      <td>0.00</td>\n      <td>0.0</td>\n      <td>0.0</td>\n      <td>4.0</td>\n      <td>2.0</td>\n      <td>3.0</td>\n      <td>1.0</td>\n      <td>2.0</td>\n      <td>6.0</td>\n      <td>17.0</td>\n    </tr>\n  </tbody>\n</table>\n</div>"
     },
     "metadata": {},
     "execution_count": 20
    }
   ],
   "source": [
    "data_pipeline = joblib.load(PREPARATION_PATH)\n",
    "X = data_pipeline.transform(df)\n",
    "X.head()"
   ]
  },
  {
   "source": [
    "# Prediction"
   ],
   "cell_type": "markdown",
   "metadata": {}
  },
  {
   "cell_type": "code",
   "execution_count": 10,
   "metadata": {},
   "outputs": [
    {
     "output_type": "execute_result",
     "data": {
      "text/plain": [
       "XGBClassifier(base_score=0.5, booster='gbtree', colsample_bylevel=1,\n",
       "              colsample_bynode=1, colsample_bytree=1, eta=0.3,\n",
       "              eval_metric='mlogloss', gamma=0, gpu_id=-1,\n",
       "              importance_type='gain', interaction_constraints='',\n",
       "              learning_rate=0.300000012, max_delta_step=0, max_depth=6,\n",
       "              min_child_weight=1, missing=nan, monotone_constraints='()',\n",
       "              n_estimators=100, n_jobs=4, num_parallel_tree=1,\n",
       "              objective='multi:softprob', random_state=2021, reg_alpha=0,\n",
       "              reg_lambda=1, scale_pos_weight=None, subsample=1,\n",
       "              tree_method='exact', validate_parameters=1, verbosity=None)"
      ]
     },
     "metadata": {},
     "execution_count": 10
    }
   ],
   "source": [
    "clf = joblib.load(MODEL_PATH)\n",
    "clf"
   ]
  },
  {
   "cell_type": "code",
   "execution_count": 11,
   "metadata": {},
   "outputs": [
    {
     "output_type": "execute_result",
     "data": {
      "text/plain": [
       "array(['NDF', 'NDF', 'NDF', ..., 'NDF', 'NDF', 'NDF'], dtype=object)"
      ]
     },
     "metadata": {},
     "execution_count": 11
    }
   ],
   "source": [
    "y = clf.predict(X)\n",
    "y_proba = clf.predict_proba(X)\n",
    "y"
   ]
  },
  {
   "cell_type": "code",
   "execution_count": 12,
   "metadata": {},
   "outputs": [
    {
     "output_type": "execute_result",
     "data": {
      "text/plain": [
       "array([[3.6030894e-03, 1.8765760e-03, 9.4804549e-01, 4.6474881e-02],\n",
       "       [1.8549454e-03, 6.6965085e-04, 9.6155745e-01, 3.5917897e-02],\n",
       "       [1.2191723e-02, 5.1443330e-03, 9.3402827e-01, 4.8635606e-02],\n",
       "       ...,\n",
       "       [1.1864457e-02, 7.1651698e-03, 8.8746524e-01, 9.3505107e-02],\n",
       "       [1.4621754e-02, 6.3226549e-03, 5.4058647e-01, 4.3846911e-01],\n",
       "       [1.8085745e-03, 6.4910908e-04, 8.1655669e-01, 1.8098564e-01]],\n",
       "      dtype=float32)"
      ]
     },
     "metadata": {},
     "execution_count": 12
    }
   ],
   "source": [
    "y_proba"
   ]
  },
  {
   "cell_type": "code",
   "execution_count": 13,
   "metadata": {},
   "outputs": [
    {
     "output_type": "execute_result",
     "data": {
      "text/plain": [
       "array(['FR', 'IT', 'NDF', 'US'], dtype=object)"
      ]
     },
     "metadata": {},
     "execution_count": 13
    }
   ],
   "source": [
    "clf.classes_"
   ]
  },
  {
   "source": [
    "# Reorganizing the data\n",
    "\n",
    "Since the submission must be done following the convention of the dictionary, let's rearrange the order of the columns before saving the final csv\n",
    "\n",
    "{'NDF': 0, 'US': 1, 'FR': 2, 'IT': 3}"
   ],
   "cell_type": "markdown",
   "metadata": {}
  },
  {
   "cell_type": "code",
   "execution_count": 16,
   "metadata": {},
   "outputs": [
    {
     "output_type": "execute_result",
     "data": {
      "text/plain": [
       "        NDF        US        FR        IT\n",
       "0  0.948045  0.046475  0.003603  0.001877\n",
       "1  0.961557  0.035918  0.001855  0.000670\n",
       "2  0.934028  0.048636  0.012192  0.005144\n",
       "3  0.757481  0.222916  0.016449  0.003154\n",
       "4  0.880875  0.099814  0.011365  0.007946"
      ],
      "text/html": "<div>\n<style scoped>\n    .dataframe tbody tr th:only-of-type {\n        vertical-align: middle;\n    }\n\n    .dataframe tbody tr th {\n        vertical-align: top;\n    }\n\n    .dataframe thead th {\n        text-align: right;\n    }\n</style>\n<table border=\"1\" class=\"dataframe\">\n  <thead>\n    <tr style=\"text-align: right;\">\n      <th></th>\n      <th>NDF</th>\n      <th>US</th>\n      <th>FR</th>\n      <th>IT</th>\n    </tr>\n  </thead>\n  <tbody>\n    <tr>\n      <th>0</th>\n      <td>0.948045</td>\n      <td>0.046475</td>\n      <td>0.003603</td>\n      <td>0.001877</td>\n    </tr>\n    <tr>\n      <th>1</th>\n      <td>0.961557</td>\n      <td>0.035918</td>\n      <td>0.001855</td>\n      <td>0.000670</td>\n    </tr>\n    <tr>\n      <th>2</th>\n      <td>0.934028</td>\n      <td>0.048636</td>\n      <td>0.012192</td>\n      <td>0.005144</td>\n    </tr>\n    <tr>\n      <th>3</th>\n      <td>0.757481</td>\n      <td>0.222916</td>\n      <td>0.016449</td>\n      <td>0.003154</td>\n    </tr>\n    <tr>\n      <th>4</th>\n      <td>0.880875</td>\n      <td>0.099814</td>\n      <td>0.011365</td>\n      <td>0.007946</td>\n    </tr>\n  </tbody>\n</table>\n</div>"
     },
     "metadata": {},
     "execution_count": 16
    }
   ],
   "source": [
    "csv = pd.DataFrame(y_proba, columns=clf.classes_)\n",
    "\n",
    "column_names = ['NDF', 'US', 'FR', 'IT']\n",
    "csv = csv.reindex(columns=column_names)\n",
    "csv.head()"
   ]
  },
  {
   "cell_type": "code",
   "execution_count": 19,
   "metadata": {},
   "outputs": [],
   "source": [
    "csv.to_csv(OUTPUT_PATH, index=False, header=False)"
   ]
  },
  {
   "cell_type": "code",
   "execution_count": null,
   "metadata": {},
   "outputs": [],
   "source": []
  }
 ]
}