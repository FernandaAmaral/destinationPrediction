{
 "cells": [
  {
   "cell_type": "markdown",
   "metadata": {},
   "source": [
    "## Exercício - Ciencia de Dados"
   ]
  },
  {
   "cell_type": "markdown",
   "metadata": {},
   "source": [
    "### Instruções e dataset para o candidato:\n",
    "---\n",
    "#### dataset:\n",
    "* df_train.csv\n",
    "* df_test_no_label.csv\n",
    "____\n",
    "#### problema:\n",
    "\n",
    "O objetivo do exercicio é predizer para que país o usuário do serviço fará sua primeira viagem. \n",
    "Esse label está contido na coluna ‘country_destination’.\n",
    "Trata-se de um problema de classifiação multi-classe. Os possíveis valores são:\n",
    "\t- NDF\n",
    "\t- US\n",
    "\t- FR\n",
    "\t- IT\n",
    "\n",
    "correspondentes a quatro possibilidades do usuário.\n",
    "\n",
    "As outras colunas contém features do usuário, que podem ser tanto categoricas quanto numéricas.\n",
    "\n",
    "A avaliação será feita com duas metricas:\n",
    "* logloss: http://scikit-learn.org/stable/modules/generated/sklearn.metrics.log_loss.html\n",
    "* ROC_AUC: https://scikit-learn.org/stable/modules/generated/sklearn.metrics.roc_auc_score.html (*)\n",
    "\n",
    "No dia da entrevista, trazer o seu algoritmo para validação em uma massa out-of-sample.\n",
    "A submissão deverá ser um csv, contendo as probabilidades de cada label com a seguinte convenção: ```{'NDF': 0, 'US': 1, 'FR': 2, 'IT': 3}```\n",
    "\n",
    "Exemplo:<br>\n",
    "```\n",
    "0.7,0.1,0.1,0.1\n",
    "0.3,0.3,0.3,0.1\n",
    "0.25,0.25,0.25,0.25\n",
    "```\n",
    "A primeira linha traz NDF com probabilidade de 70%, e US/FR/IT com 10% cada.<br>\n",
    "A segunda linha traz NDF/US/FR com probabilidade 30% cada e IT com 10%.<br>\n",
    "A terceira linha traz cada um dos quatro labels com 25% de probabilidade.\n",
    "\n",
    "(\\*) No caso do ROC_AUC consideraremos como ```'NDF'``` como label negativo, e ```'US', 'FR', 'IT'``` como label positivo.\n",
    "\n",
    "Caso haja alguma dúvida favor entrar em contato.\n",
    "\n",
    "----"
   ]
  },
  {
   "cell_type": "code",
   "execution_count": null,
   "metadata": {},
   "outputs": [],
   "source": []
  }
 ],
 "metadata": {
  "kernelspec": {
   "display_name": "Python 3",
   "language": "python",
   "name": "python3"
  },
  "language_info": {
   "codemirror_mode": {
    "name": "ipython",
    "version": 3
   },
   "file_extension": ".py",
   "mimetype": "text/x-python",
   "name": "python",
   "nbconvert_exporter": "python",
   "pygments_lexer": "ipython3",
   "version": "3.8.6"
  }
 },
 "nbformat": 4,
 "nbformat_minor": 4
}
